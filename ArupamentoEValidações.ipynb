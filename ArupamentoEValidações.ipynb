{
  "nbformat": 4,
  "nbformat_minor": 0,
  "metadata": {
    "colab": {
      "name": "ArupamentoEValidações.ipynb",
      "provenance": [],
      "authorship_tag": "ABX9TyPz882tUt6wiFihsuxrfQ0j",
      "include_colab_link": true
    },
    "kernelspec": {
      "name": "python3",
      "display_name": "Python 3"
    }
  },
  "cells": [
    {
      "cell_type": "markdown",
      "metadata": {
        "id": "view-in-github",
        "colab_type": "text"
      },
      "source": [
        "<a href=\"https://colab.research.google.com/github/pamellaOliveira/Educational-Data-Mining/blob/master/ArupamentoEValida%C3%A7%C3%B5es.ipynb\" target=\"_parent\"><img src=\"https://colab.research.google.com/assets/colab-badge.svg\" alt=\"Open In Colab\"/></a>"
      ]
    },
    {
      "cell_type": "code",
      "metadata": {
        "id": "uwDko9WEfEIG",
        "colab_type": "code",
        "colab": {
          "base_uri": "https://localhost:8080/",
          "height": 85
        },
        "outputId": "888cfb55-6671-49c2-9ec2-1cfeb1f64c3f"
      },
      "source": [
        "pip install jaccard-index "
      ],
      "execution_count": null,
      "outputs": [
        {
          "output_type": "stream",
          "text": [
            "Collecting jaccard-index\n",
            "  Downloading https://files.pythonhosted.org/packages/e7/66/a066229192ef1323b5a36bfc68a7d2e850227f96c0754349072369470255/jaccard_index-0.0.3-py3-none-any.whl\n",
            "Installing collected packages: jaccard-index\n",
            "Successfully installed jaccard-index-0.0.3\n"
          ],
          "name": "stdout"
        }
      ]
    },
    {
      "cell_type": "code",
      "metadata": {
        "id": "NDcxfv3KKYx9",
        "colab_type": "code",
        "colab": {
          "base_uri": "https://localhost:8080/",
          "height": 71
        },
        "outputId": "68a6af73-de60-4f2e-c7cd-b06c457b38e8"
      },
      "source": [
        "import pandas as pd\n",
        "from scipy.cluster.hierarchy import linkage\n",
        "from scipy.cluster.hierarchy import fcluster\n",
        "from scipy.cluster.hierarchy import dendrogram\n",
        "from matplotlib import pyplot\n",
        "from sklearn.cluster import k_means\n",
        "from sklearn.metrics import silhouette_score\n",
        "import matplotlib.pyplot as plt\n",
        "from sklearn.cluster import dbscan\n",
        "from sklearn.metrics import adjusted_rand_score\n",
        "from sklearn.metrics import mutual_info_score\n",
        "from sklearn.metrics import normalized_mutual_info_score\n",
        "from sklearn.metrics import accuracy_score\n",
        "from sklearn.metrics import jaccard_similarity_score\n",
        "import numpy as np\n",
        "from sklearn.datasets.samples_generator import make_blobs\n",
        "from sklearn.neighbors import NearestNeighbors\n",
        "from sklearn.cluster import DBSCAN\n",
        "from matplotlib import pyplot as plt\n",
        "from matplotlib import pyplot as plt1"
      ],
      "execution_count": null,
      "outputs": [
        {
          "output_type": "stream",
          "text": [
            "/usr/local/lib/python3.6/dist-packages/sklearn/utils/deprecation.py:144: FutureWarning: The sklearn.datasets.samples_generator module is  deprecated in version 0.22 and will be removed in version 0.24. The corresponding classes / functions should instead be imported from sklearn.datasets. Anything that cannot be imported from sklearn.datasets is now part of the private API.\n",
            "  warnings.warn(message, FutureWarning)\n"
          ],
          "name": "stderr"
        }
      ]
    },
    {
      "cell_type": "code",
      "metadata": {
        "id": "iRhheSyKLajd",
        "colab_type": "code",
        "colab": {
          "resources": {
            "http://localhost:8080/nbextensions/google.colab/files.js": {
              "data": "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",
              "ok": true,
              "headers": [
                [
                  "content-type",
                  "application/javascript"
                ]
              ],
              "status": 200,
              "status_text": ""
            }
          },
          "base_uri": "https://localhost:8080/",
          "height": 74
        },
        "outputId": "1aedb034-537e-47fc-d432-4c4c090889a3"
      },
      "source": [
        "from google.colab import files\n",
        "uploaded = files.upload()"
      ],
      "execution_count": null,
      "outputs": [
        {
          "output_type": "display_data",
          "data": {
            "text/html": [
              "\n",
              "     <input type=\"file\" id=\"files-e21812a1-765a-467f-a760-eb3bc45a0d31\" name=\"files[]\" multiple disabled />\n",
              "     <output id=\"result-e21812a1-765a-467f-a760-eb3bc45a0d31\">\n",
              "      Upload widget is only available when the cell has been executed in the\n",
              "      current browser session. Please rerun this cell to enable.\n",
              "      </output>\n",
              "      <script src=\"/nbextensions/google.colab/files.js\"></script> "
            ],
            "text/plain": [
              "<IPython.core.display.HTML object>"
            ]
          },
          "metadata": {
            "tags": []
          }
        },
        {
          "output_type": "stream",
          "text": [
            "Saving baseGeral.csv to baseGeral.csv\n"
          ],
          "name": "stdout"
        }
      ]
    },
    {
      "cell_type": "code",
      "metadata": {
        "id": "lb3uFf-fKcKW",
        "colab_type": "code",
        "colab": {}
      },
      "source": [
        "################LIMPEZA DATASET###################\n",
        "\n",
        "df = pd.read_csv('baseGeral.csv',encoding = \"UTF-8\", sep = \";\", usecols=[0,2,46,47,48,49,50,\n",
        "51,53,54,55,56,58,59])\n",
        "df2 = df[df['Curso'] == 'Administracao']\n",
        "selecao = (df2.Período == 5) | (df2.Período == 6) | (df2.Período == 7) | (df2.Período == 8)\n",
        "df3 = df2[selecao]\n",
        "df4 = df3.drop(columns=['Curso','Período'])\n",
        "dados = df4.values"
      ],
      "execution_count": null,
      "outputs": []
    },
    {
      "cell_type": "markdown",
      "metadata": {
        "id": "uo0ZnEbJR3Ms",
        "colab_type": "text"
      },
      "source": [
        "## **Hierarquico**"
      ]
    },
    {
      "cell_type": "code",
      "metadata": {
        "id": "zrI1aNHbKerD",
        "colab_type": "code",
        "colab": {
          "base_uri": "https://localhost:8080/",
          "height": 302
        },
        "outputId": "1f485d7f-11c8-4f90-a47b-9800783d5ba6"
      },
      "source": [
        "#############HIERARQUICO############################\n",
        "h = linkage(dados, method='complete', metric='euclidean')\n",
        "dendrogram(h)\n",
        "pyplot.show()\n",
        "\n",
        "rotulos_dist = fcluster(h, t=15, criterion='distance')\n",
        "rotulos_k = fcluster(h, t=2, criterion='maxclust')\n",
        "\n",
        "#Para o Indice rand abaixo\n",
        "rotuloHierIR = rotulos_k\n",
        "\n",
        "#Separar os grupos descomente o codigo abaixo\n",
        "'''\n",
        "lh1 =[]\n",
        "lh2 =[]\n",
        "lh3=[]\n",
        "lh4=[]\n",
        "lh5=[]\n",
        "lh6=[]\n",
        "lh0=[]\n",
        "for i in rotulos_k:\n",
        "    if str(i) == \"0\":\n",
        "        lh0.append(i)\n",
        "    if str(i) == \"1\":\n",
        "        lh1.append(i)\n",
        "    if str(i) == \"2\":\n",
        "        lh2.append(i)\n",
        "    if str(i) == \"3\":\n",
        "        lh3.append(i)\n",
        "    if str(i) == \"4\":\n",
        "        lh4.append(i)\n",
        "    if str(i) == \"5\":\n",
        "        lh5.append(i)\n",
        "    if str(i) == \"6\":\n",
        "        lh6.append(i)\n",
        "\n",
        "print(\"Quantidade de pessoas por grupos no Hierarquico\")\n",
        "print(len(lh1), \"No 1 grupo\")\n",
        "print(len(lh2), \"No 2 grupo\")\n",
        "print(len(lh3), \"No 3 grupo\")\n",
        "print(len(lh4), \"No 4 grupo\")\n",
        "#print(len(lh5), \"No 5 grupo\")\n",
        "#print(len(lh6), \"No 6 grupo\")\n",
        "print(\"\\n\")'''"
      ],
      "execution_count": null,
      "outputs": [
        {
          "output_type": "display_data",
          "data": {
            "image/png": "[encoded data removed]",
            "text/plain": [
              "<Figure size 432x288 with 1 Axes>"
            ]
          },
          "metadata": {
            "tags": [],
            "needs_background": "light"
          }
        },
        {
          "output_type": "execute_result",
          "data": {
            "text/plain": [
              "'\\nlh1 =[]\\nlh2 =[]\\nlh3=[]\\nlh4=[]\\nlh5=[]\\nlh6=[]\\nlh0=[]\\nfor i in rotulos_k:\\n    if str(i) == \"0\":\\n        lh0.append(i)\\n    if str(i) == \"1\":\\n        lh1.append(i)\\n    if str(i) == \"2\":\\n        lh2.append(i)\\n    if str(i) == \"3\":\\n        lh3.append(i)\\n    if str(i) == \"4\":\\n        lh4.append(i)\\n    if str(i) == \"5\":\\n        lh5.append(i)\\n    if str(i) == \"6\":\\n        lh6.append(i)\\n\\nprint(\"Quantidade de pessoas por grupos no Hierarquico\")\\nprint(len(lh1), \"No 1 grupo\")\\nprint(len(lh2), \"No 2 grupo\")\\nprint(len(lh3), \"No 3 grupo\")\\nprint(len(lh4), \"No 4 grupo\")\\n#print(len(lh5), \"No 5 grupo\")\\n#print(len(lh6), \"No 6 grupo\")\\nprint(\"\\n\")'"
            ]
          },
          "metadata": {
            "tags": []
          },
          "execution_count": 11
        }
      ]
    },
    {
      "cell_type": "markdown",
      "metadata": {
        "id": "_vDuUEadixvW",
        "colab_type": "text"
      },
      "source": [
        "### **method='single' metric='euclidean'**\n",
        "\n",
        "\n"
      ]
    },
    {
      "cell_type": "code",
      "metadata": {
        "id": "dM3inpG7SAw_",
        "colab_type": "code",
        "colab": {
          "base_uri": "https://localhost:8080/",
          "height": 265
        },
        "outputId": "a657f6b4-24ef-4d5c-9b4e-8882e7f109ec"
      },
      "source": [
        "#############HIERARQUICO############################\n",
        "h = linkage(dados, method='single', metric='euclidean')\n",
        "dendrogram(h)\n",
        "pyplot.show()\n",
        "#rotulos_dist = fcluster(h, t=27, criterion='distance')\n",
        "#rotulos_k = fcluster(h, t=4, criterion='maxclust')\n",
        "\n"
      ],
      "execution_count": null,
      "outputs": [
        {
          "output_type": "display_data",
          "data": {
            "image/png": "[encoded data removed]",
            "text/plain": [
              "<Figure size 432x288 with 1 Axes>"
            ]
          },
          "metadata": {
            "tags": [],
            "needs_background": "light"
          }
        }
      ]
    },
    {
      "cell_type": "markdown",
      "metadata": {
        "id": "_ruRB3LdjHdO",
        "colab_type": "text"
      },
      "source": [
        "**## method='average' metric='euclidean'**"
      ]
    },
    {
      "cell_type": "code",
      "metadata": {
        "id": "iBl7_slCSX-r",
        "colab_type": "code",
        "colab": {
          "base_uri": "https://localhost:8080/",
          "height": 265
        },
        "outputId": "6746791c-de1e-48a5-c13c-b8dd6e83ba95"
      },
      "source": [
        "#############HIERARQUICO############################\n",
        "h = linkage(dados, method='average', metric='euclidean')\n",
        "dendrogram(h)\n",
        "pyplot.show()\n",
        "#rotulos_dist = fcluster(h, t=27, criterion='distance')\n",
        "#rotulos_k = fcluster(h, t=4, criterion='maxclust')\n",
        "#print(rotulos_dist)\n",
        "\n"
      ],
      "execution_count": null,
      "outputs": [
        {
          "output_type": "display_data",
          "data": {
            "image/png": "[encoded data removed]",
            "text/plain": [
              "<Figure size 432x288 with 1 Axes>"
            ]
          },
          "metadata": {
            "tags": [],
            "needs_background": "light"
          }
        }
      ]
    },
    {
      "cell_type": "markdown",
      "metadata": {
        "id": "dAruzoydRd22",
        "colab_type": "text"
      },
      "source": [
        "### **MEtric Chebyshev**"
      ]
    },
    {
      "cell_type": "code",
      "metadata": {
        "id": "x2-hJ4XGRQ8t",
        "colab_type": "code",
        "colab": {
          "base_uri": "https://localhost:8080/",
          "height": 265
        },
        "outputId": "575ca727-03b6-4ddb-ce0c-8d4c671c8cf0"
      },
      "source": [
        "#############HIERARQUICO############################\n",
        "h = linkage(dados, method='complete', metric='chebyshev')\n",
        "dendrogram(h)\n",
        "pyplot.show()\n",
        "#rotulos_dist = fcluster(h, t=27, criterion='distance')\n",
        "#rotulos_k = fcluster(h, t=4, criterion='maxclust')\n"
      ],
      "execution_count": null,
      "outputs": [
        {
          "output_type": "display_data",
          "data": {
            "image/png": "[encoded data removed]",
            "text/plain": [
              "<Figure size 432x288 with 1 Axes>"
            ]
          },
          "metadata": {
            "tags": [],
            "needs_background": "light"
          }
        }
      ]
    },
    {
      "cell_type": "code",
      "metadata": {
        "id": "WCr6S1ioh2gu",
        "colab_type": "code",
        "colab": {
          "base_uri": "https://localhost:8080/",
          "height": 268
        },
        "outputId": "5ed9181d-7a75-46d3-e005-bd5479b4ec4b"
      },
      "source": [
        "h = linkage(dados, method='average', metric='chebyshev')\n",
        "dendrogram(h)\n",
        "pyplot.show()"
      ],
      "execution_count": null,
      "outputs": [
        {
          "output_type": "display_data",
          "data": {
            "image/png": "[encoded data removed]",
            "text/plain": [
              "<Figure size 432x288 with 1 Axes>"
            ]
          },
          "metadata": {
            "tags": [],
            "needs_background": "light"
          }
        }
      ]
    },
    {
      "cell_type": "code",
      "metadata": {
        "id": "gReTN1MZh6F7",
        "colab_type": "code",
        "colab": {
          "base_uri": "https://localhost:8080/",
          "height": 34
        },
        "outputId": "894b9d7a-817d-4311-fe3d-18b0fb265fdc"
      },
      "source": [
        "#Com o metodo \"single\" apresenta problema de limite de recursão\n",
        "'''h = linkage(dados, method='single, metric='chebyshev')\n",
        "dendrogram(h)\n",
        "pyplot.show()'''"
      ],
      "execution_count": null,
      "outputs": [
        {
          "output_type": "execute_result",
          "data": {
            "text/plain": [
              "\"h = linkage(dados, method='single, metric='chebyshev')\\ndendrogram(h)\\npyplot.show()\""
            ]
          },
          "metadata": {
            "tags": []
          },
          "execution_count": 14
        }
      ]
    },
    {
      "cell_type": "markdown",
      "metadata": {
        "id": "X4GdZd9vYt8w",
        "colab_type": "text"
      },
      "source": [
        "## **KMeans**"
      ]
    },
    {
      "cell_type": "code",
      "metadata": {
        "id": "aJ3J2n49Kms9",
        "colab_type": "code",
        "colab": {
          "base_uri": "https://localhost:8080/",
          "height": 102
        },
        "outputId": "9d9207ce-197f-4709-ba78-0e9c0e88ef24"
      },
      "source": [
        "###############KMEANS###########################\n",
        "centroides, rotulos, sse = k_means(dados,n_clusters=2,init='random',n_init=100)\n",
        "\n",
        "#para o Indice rand abaixo\n",
        "rotulosNHierIR = rotulos\n",
        "l1 =[]\n",
        "l2 =[]\n",
        "l3=[]\n",
        "l4=[]\n",
        "l5=[]\n",
        "l6=[]\n",
        "l0=[]\n",
        "for i in rotulos:\n",
        "    if str(i) == \"0\":\n",
        "        l0.append(i)\n",
        "    if str(i) == \"1\":\n",
        "        l1.append(i)\n",
        "    if str(i) == \"2\":\n",
        "        l2.append(i)\n",
        "    if str(i) == \"3\":\n",
        "        l3.append(i)\n",
        "    if str(i) == \"4\":\n",
        "        l4.append(i)\n",
        "    if str(i) == \"5\":\n",
        "        l5.append(i)\n",
        "    if str(i) == \"6\":\n",
        "        l6.append(i)\n",
        "print(\"Quantidade de pessoas por grupos no K-Means\")\n",
        "print(len(l0), \"No 1 grupo\")\n",
        "print(len(l1), \"No 2 grupo\")\n",
        "print(len(l2), \"No 3 grupo\")\n",
        "print(len(l3), \"No 4 grupo\")\n",
        "#print(len(l4), \"No 5 grupo\")\n",
        "#print(len(l5), \"No 6 grupo \\n\")"
      ],
      "execution_count": null,
      "outputs": [
        {
          "output_type": "stream",
          "text": [
            "Quantidade de pessoas por grupos no K-Means\n",
            "306 No 1 grupo\n",
            "238 No 2 grupo\n",
            "0 No 3 grupo\n",
            "0 No 4 grupo\n"
          ],
          "name": "stdout"
        }
      ]
    },
    {
      "cell_type": "markdown",
      "metadata": {
        "id": "xGHJANzyYzPa",
        "colab_type": "text"
      },
      "source": [
        "## **DBSCAN**"
      ]
    },
    {
      "cell_type": "code",
      "metadata": {
        "id": "mrjVNo3lroi4",
        "colab_type": "code",
        "colab": {
          "base_uri": "https://localhost:8080/",
          "height": 598
        },
        "outputId": "384131df-892a-40ae-bfdd-8c3f2d9ad143"
      },
      "source": [
        "#DBSCAN\n",
        "#para encontrar o valor ideal do eps\n",
        "neigh = NearestNeighbors(n_neighbors=2)\n",
        "nbrs = neigh.fit(dados)\n",
        "distances, indices = nbrs.kneighbors(dados)\n",
        "distances = np.sort(distances, axis=0)\n",
        "distances = distances[:,1]\n",
        "#plotando a curva do eps para achar o melhor valor\n",
        "plt.plot(distances)\n",
        "plt.show()\n",
        "#colocando o valor do eps no algoritmo do dbscan para achar os clusters \n",
        "m = DBSCAN(eps=5, min_samples=12)\n",
        "m.fit(dados)\n",
        "clusters = m.labels_\n",
        "#clusters encontrados agora plotar\n",
        "cores = ['royalblue', 'maroon', 'forestgreen', 'mediumorchid', 'tan', 'deeppink', 'olive', 'goldenrod', 'lightcyan', 'navy'] \n",
        "vetorizador = np.vectorize (lambda x: cores [x% len (cores)])\n",
        "plt1.scatter (dados [:, 0], dados [:, 1], c = vetorizador (clusters))\n",
        "plt1.show()\n",
        "#apenas mostrando a quantidade por grupos \n",
        "l1 =[]\n",
        "l2 =[]\n",
        "ln1 =[]\n",
        "l0=[]\n",
        "for i in clusters:\n",
        "    if str(i) == \"0\":\n",
        "        l0.append(i)\n",
        "    if str(i) == \"1\":\n",
        "        l1.append(i)\n",
        "    if str(i) == \"2\":\n",
        "        l2.append(i)\n",
        "    if str(i) == \"-1\":\n",
        "        ln1.append(i)\n",
        "print(\"Quantidade de pessoas por grupos no DBSCAN\")\n",
        "print(len(l0), \"No 0 grupo\")\n",
        "print(len(l1), \"No 1 grupo\")\n",
        "print(len(l2), \"No 2 grupo\")\n",
        "print(len(ln1), \"No -1 grupo \")"
      ],
      "execution_count": null,
      "outputs": [
        {
          "output_type": "display_data",
          "data": {
            "image/png": "[encoded data removed]",
            "text/plain": [
              "<Figure size 432x288 with 1 Axes>"
            ]
          },
          "metadata": {
            "tags": [],
            "needs_background": "light"
          }
        },
        {
          "output_type": "display_data",
          "data": {
            "image/png": "[encoded data removed]",
            "text/plain": [
              "<Figure size 432x288 with 1 Axes>"
            ]
          },
          "metadata": {
            "tags": [],
            "needs_background": "light"
          }
        },
        {
          "output_type": "stream",
          "text": [
            "Quantidade de pessoas por grupos no DBSCAN\n",
            "19 No 0 grupo\n",
            "1425 No 1 grupo\n",
            "13 No 2 grupo\n",
            "399 No -1 grupo \n"
          ],
          "name": "stdout"
        }
      ]
    },
    {
      "cell_type": "markdown",
      "metadata": {
        "id": "IZQpmaYoX3A9",
        "colab_type": "text"
      },
      "source": [
        "## **Validação interna **"
      ]
    },
    {
      "cell_type": "code",
      "metadata": {
        "id": "7RxzXcbKKrU_",
        "colab_type": "code",
        "colab": {
          "base_uri": "https://localhost:8080/",
          "height": 533
        },
        "outputId": "7c18d80e-8c2b-495f-c8bd-b32c1d2d936a"
      },
      "source": [
        "###########################Elbow#######################\n",
        "print(\"\\n Metódo do cotovelo\")\n",
        "from sklearn.cluster import KMeans\n",
        "X = dados\n",
        "wcss = []\n",
        " \n",
        "for i in range(1, 11):\n",
        "    kmeans = KMeans(n_clusters = i, init = 'random')\n",
        "    kmeans.fit(X)\n",
        "    print ((i,kmeans.inertia_))\n",
        "    wcss.append(kmeans.inertia_)  \n",
        "plt.plot(range(1, 11), wcss)\n",
        "plt.title('O Metodo Elbow')\n",
        "plt.xlabel('Numero de Clusters')\n",
        "plt.ylabel('WSS') #within cluster sum of squares\n",
        "plt.show()\n",
        "print(\"\\n\")"
      ],
      "execution_count": null,
      "outputs": [
        {
          "output_type": "stream",
          "text": [
            "\n",
            " Metódo do cotovelo\n",
            "(1, 217613.18548890087)\n",
            "(2, 114846.22682257116)\n",
            "(3, 92352.03094293342)\n",
            "(4, 85429.21148792075)\n",
            "(5, 79997.841044498)\n",
            "(6, 75686.71329102012)\n",
            "(7, 72089.38493012293)\n",
            "(8, 68749.25496465349)\n",
            "(9, 65560.53264937784)\n",
            "(10, 63376.75356174812)\n"
          ],
          "name": "stdout"
        },
        {
          "output_type": "display_data",
          "data": {
            "image/png": "[encoded data removed]",
            "text/plain": [
              "<Figure size 432x288 with 1 Axes>"
            ]
          },
          "metadata": {
            "tags": [],
            "needs_background": "light"
          }
        },
        {
          "output_type": "stream",
          "text": [
            "\n",
            "\n"
          ],
          "name": "stdout"
        }
      ]
    },
    {
      "cell_type": "markdown",
      "metadata": {
        "id": "Qmt6X1s4X_JP",
        "colab_type": "text"
      },
      "source": [
        "###**Validação Relativa **"
      ]
    },
    {
      "cell_type": "code",
      "metadata": {
        "id": "t_sUwowCKu-g",
        "colab_type": "code",
        "colab": {
          "base_uri": "https://localhost:8080/",
          "height": 34
        },
        "outputId": "cff7fad2-93c1-489b-d510-f8989f06e05e"
      },
      "source": [
        "####################ANALISE DE SILHUETA########################\n",
        "#considerando 4 clusters\n",
        "\n",
        "s = silhouette_score(dados, rotulos, metric='sqeuclidean')\n",
        "print(s, \"silhueta score\")"
      ],
      "execution_count": null,
      "outputs": [
        {
          "output_type": "stream",
          "text": [
            "0.4059219735168568 silhueta score\n"
          ],
          "name": "stdout"
        }
      ]
    },
    {
      "cell_type": "markdown",
      "metadata": {
        "id": "EuPHV07SWOWX",
        "colab_type": "text"
      },
      "source": [
        "## **Validações externas**"
      ]
    },
    {
      "cell_type": "code",
      "metadata": {
        "id": "J-cMsQCyOOqn",
        "colab_type": "code",
        "colab": {
          "base_uri": "https://localhost:8080/",
          "height": 34
        },
        "outputId": "c55b3bfc-780c-433b-ea92-3d2fb2708b29"
      },
      "source": [
        "#comparação entre o rotulos do Não hierarquico e do Hierarquico\n",
        "#Indice rand \n",
        "ir = adjusted_rand_score(rotulosNHierIR, rotuloHierIR)\n",
        "print(ir)"
      ],
      "execution_count": null,
      "outputs": [
        {
          "output_type": "stream",
          "text": [
            "0.45655869771041646\n"
          ],
          "name": "stdout"
        }
      ]
    },
    {
      "cell_type": "code",
      "metadata": {
        "id": "deYxxnNgVvQF",
        "colab_type": "code",
        "colab": {
          "base_uri": "https://localhost:8080/",
          "height": 34
        },
        "outputId": "e2fee26e-094a-463c-b75e-479d87442a1a"
      },
      "source": [
        "# Calculando o IM.\n",
        "im = mutual_info_score(rotulosNHierIR, rotuloHierIR)\n",
        "print(im)\n"
      ],
      "execution_count": null,
      "outputs": [
        {
          "output_type": "stream",
          "text": [
            "0.27953109796738257\n"
          ],
          "name": "stdout"
        }
      ]
    },
    {
      "cell_type": "code",
      "metadata": {
        "id": "gRAHgsLmWl70",
        "colab_type": "code",
        "colab": {
          "base_uri": "https://localhost:8080/",
          "height": 34
        },
        "outputId": "4c464d55-b827-4820-f397-c0997358c082"
      },
      "source": [
        "# Calculando o IMN.\n",
        "imn = normalized_mutual_info_score(rotulosNHierIR, rotuloHierIR)\n",
        "\n",
        "print(imn)"
      ],
      "execution_count": null,
      "outputs": [
        {
          "output_type": "stream",
          "text": [
            "0.4069204119555402\n"
          ],
          "name": "stdout"
        }
      ]
    },
    {
      "cell_type": "code",
      "metadata": {
        "id": "G2-U98pOi2II",
        "colab_type": "code",
        "colab": {
          "base_uri": "https://localhost:8080/",
          "height": 88
        },
        "outputId": "3abf71df-e5c3-44d8-939a-e2aaf735f881"
      },
      "source": [
        "jaccard_similarity_score(rotulosNHierIR, rotuloHierIR)"
      ],
      "execution_count": null,
      "outputs": [
        {
          "output_type": "stream",
          "text": [
            "/usr/local/lib/python3.6/dist-packages/sklearn/metrics/_classification.py:664: FutureWarning: jaccard_similarity_score has been deprecated and replaced with jaccard_score. It will be removed in version 0.23. This implementation has surprising behavior for binary and multiclass classification tasks.\n",
            "  FutureWarning)\n"
          ],
          "name": "stderr"
        },
        {
          "output_type": "execute_result",
          "data": {
            "text/plain": [
              "0.025735294117647058"
            ]
          },
          "metadata": {
            "tags": []
          },
          "execution_count": 16
        }
      ]
    }
  ]
}