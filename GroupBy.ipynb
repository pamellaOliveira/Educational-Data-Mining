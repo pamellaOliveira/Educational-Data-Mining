{
  "nbformat": 4,
  "nbformat_minor": 0,
  "metadata": {
    "colab": {
      "name": "GroupBy.ipynb",
      "provenance": [],
      "include_colab_link": true
    },
    "kernelspec": {
      "name": "python3",
      "display_name": "Python 3"
    }
  },
  "cells": [
    {
      "cell_type": "markdown",
      "metadata": {
        "id": "view-in-github",
        "colab_type": "text"
      },
      "source": [
        "<a href=\"https://colab.research.google.com/github/pamellaOliveira/Educational-Data-Mining/blob/master/GroupBy.ipynb\" target=\"_parent\"><img src=\"https://colab.research.google.com/assets/colab-badge.svg\" alt=\"Open In Colab\"/></a>"
      ]
    },
    {
      "cell_type": "code",
      "metadata": {
        "id": "RzQPP7w4YPlX",
        "colab_type": "code",
        "colab": {}
      },
      "source": [
        "from google.colab import files\n",
        "uploaded = files.upload()"
      ],
      "execution_count": 0,
      "outputs": []
    },
    {
      "cell_type": "code",
      "metadata": {
        "id": "m2hw2yIjZKCi",
        "colab_type": "code",
        "colab": {}
      },
      "source": [
        "import pandas as pd\n",
        "\n",
        "df = pd.read_csv('baseGeral.csv',encoding = \"UTF-8\", sep = \";\")"
      ],
      "execution_count": 0,
      "outputs": []
    },
    {
      "cell_type": "code",
      "metadata": {
        "id": "t-wGx6OEZMfO",
        "colab_type": "code",
        "colab": {}
      },
      "source": [
        "df.head()\n"
      ],
      "execution_count": 0,
      "outputs": []
    },
    {
      "cell_type": "code",
      "metadata": {
        "id": "owYamk-JZkZR",
        "colab_type": "code",
        "colab": {}
      },
      "source": [
        "df[[\"Curso\",\"Período\"]].groupby([\"Curso\"]).mean()\n",
        "#so agrupa numerico"
      ],
      "execution_count": 0,
      "outputs": []
    },
    {
      "cell_type": "code",
      "metadata": {
        "id": "00nNM7LGa7Qp",
        "colab_type": "code",
        "colab": {}
      },
      "source": [
        "#Qual a media dos aluno do curso de biologia na var 1 entre 80 e 100\n",
        "df[((df.VAR01 > 80) & (df.VAR01 <= 100)) & (df.Curso == \"Pedagogia\")].mean()"
      ],
      "execution_count": 0,
      "outputs": []
    },
    {
      "cell_type": "code",
      "metadata": {
        "id": "fun199uScZuC",
        "colab_type": "code",
        "colab": {}
      },
      "source": [
        "df[[\"Curso\",\"VAR01\"]].groupby([\"Curso\"]).mean()\n",
        "#Media por curso na var 1"
      ],
      "execution_count": 0,
      "outputs": []
    },
    {
      "cell_type": "code",
      "metadata": {
        "id": "lv5ewAN6cyZC",
        "colab_type": "code",
        "colab": {}
      },
      "source": [
        "df[[\"Período\",\"VAR01\"]].groupby([\"Período\"]).mean()\n",
        "#MEdia da var01 por periodo"
      ],
      "execution_count": 0,
      "outputs": []
    },
    {
      "cell_type": "code",
      "metadata": {
        "id": "RG6Ejp0Qc8VY",
        "colab_type": "code",
        "colab": {}
      },
      "source": [
        "df[[\"Curso\",\"Período\",\"VAR01\"]].groupby([\"Curso\",\"Período\"]).mean()\n",
        "#Media da var 01 por curso e período"
      ],
      "execution_count": 0,
      "outputs": []
    }
  ]
}